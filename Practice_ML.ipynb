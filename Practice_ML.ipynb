{
 "cells": [
  {
   "cell_type": "code",
   "execution_count": 23,
   "id": "b6c87987",
   "metadata": {},
   "outputs": [],
   "source": [
    "import pandas as pd\n",
    "import matplotlib.pyplot as plt\n",
    "import numpy as np"
   ]
  },
  {
   "cell_type": "code",
   "execution_count": 24,
   "id": "c8346f0f",
   "metadata": {},
   "outputs": [],
   "source": [
    "df = pd.read_csv(\"dataset.csv\")"
   ]
  },
  {
   "cell_type": "code",
   "execution_count": 39,
   "id": "9d26ca05",
   "metadata": {},
   "outputs": [],
   "source": [
    "import matplotlib as mlp\n",
    "\n",
    "mlp.rcParams['lines.linewidth'] = 3\n",
    "mlp.rcParams['xtick.major.size'] = 10\n",
    "mlp.rcParams['xtick.major.width'] = 3\n",
    "mlp.rcParams['xtick.labelsize'] = 10\n",
    "mlp.rcParams['xtick.color'] = 'blue'\n",
    "\n",
    "mlp.rcParams['ytick.major.size'] = 10\n",
    "mlp.rcParams['ytick.major.width'] = 3\n",
    "mlp.rcParams['ytick.labelsize'] = 10\n",
    "mlp.rcParams['ytick.color'] = '#FF5533'\n",
    "\n",
    "mlp.rcParams['axes.labelsize'] = 10\n",
    "mlp.rcParams['axes.titlesize'] = 10\n",
    "mlp.rcParams['axes.titlecolor'] = '#00B050'\n",
    "mlp.rcParams['axes.labelcolor'] = '#00B050'\n"
   ]
  },
  {
   "cell_type": "code",
   "execution_count": 25,
   "id": "cb84ea4a",
   "metadata": {},
   "outputs": [
    {
     "data": {
      "text/html": [
       "<div>\n",
       "<style scoped>\n",
       "    .dataframe tbody tr th:only-of-type {\n",
       "        vertical-align: middle;\n",
       "    }\n",
       "\n",
       "    .dataframe tbody tr th {\n",
       "        vertical-align: top;\n",
       "    }\n",
       "\n",
       "    .dataframe thead th {\n",
       "        text-align: right;\n",
       "    }\n",
       "</style>\n",
       "<table border=\"1\" class=\"dataframe\">\n",
       "  <thead>\n",
       "    <tr style=\"text-align: right;\">\n",
       "      <th></th>\n",
       "      <th>Количество комнат</th>\n",
       "      <th>Площадь</th>\n",
       "      <th>Этаж</th>\n",
       "      <th>Лифт</th>\n",
       "      <th>Цена. тыс.руб</th>\n",
       "    </tr>\n",
       "  </thead>\n",
       "  <tbody>\n",
       "    <tr>\n",
       "      <th>0</th>\n",
       "      <td>4</td>\n",
       "      <td>71</td>\n",
       "      <td>9</td>\n",
       "      <td>Есть</td>\n",
       "      <td>3600</td>\n",
       "    </tr>\n",
       "    <tr>\n",
       "      <th>1</th>\n",
       "      <td>3</td>\n",
       "      <td>66</td>\n",
       "      <td>1</td>\n",
       "      <td>Нет</td>\n",
       "      <td>3300</td>\n",
       "    </tr>\n",
       "    <tr>\n",
       "      <th>2</th>\n",
       "      <td>2</td>\n",
       "      <td>42</td>\n",
       "      <td>3</td>\n",
       "      <td>Нет</td>\n",
       "      <td>2100</td>\n",
       "    </tr>\n",
       "    <tr>\n",
       "      <th>3</th>\n",
       "      <td>2</td>\n",
       "      <td>48</td>\n",
       "      <td>4</td>\n",
       "      <td>Нет</td>\n",
       "      <td>2350</td>\n",
       "    </tr>\n",
       "    <tr>\n",
       "      <th>4</th>\n",
       "      <td>1</td>\n",
       "      <td>25</td>\n",
       "      <td>4</td>\n",
       "      <td>Нет</td>\n",
       "      <td>1250</td>\n",
       "    </tr>\n",
       "    <tr>\n",
       "      <th>5</th>\n",
       "      <td>1</td>\n",
       "      <td>36</td>\n",
       "      <td>3</td>\n",
       "      <td>Есть</td>\n",
       "      <td>2250</td>\n",
       "    </tr>\n",
       "    <tr>\n",
       "      <th>6</th>\n",
       "      <td>3</td>\n",
       "      <td>89</td>\n",
       "      <td>1</td>\n",
       "      <td>Есть</td>\n",
       "      <td>4900</td>\n",
       "    </tr>\n",
       "    <tr>\n",
       "      <th>7</th>\n",
       "      <td>4</td>\n",
       "      <td>72</td>\n",
       "      <td>7</td>\n",
       "      <td>Есть</td>\n",
       "      <td>3250</td>\n",
       "    </tr>\n",
       "  </tbody>\n",
       "</table>\n",
       "</div>"
      ],
      "text/plain": [
       "   Количество комнат   Площадь   Этаж  Лифт   Цена. тыс.руб\n",
       "0                  4        71      9  Есть            3600\n",
       "1                  3        66      1   Нет            3300\n",
       "2                  2        42      3   Нет            2100\n",
       "3                  2        48      4   Нет            2350\n",
       "4                  1        25      4   Нет            1250\n",
       "5                  1        36      3  Есть            2250\n",
       "6                  3        89      1  Есть            4900\n",
       "7                  4        72      7  Есть            3250"
      ]
     },
     "execution_count": 25,
     "metadata": {},
     "output_type": "execute_result"
    }
   ],
   "source": [
    "df"
   ]
  },
  {
   "cell_type": "code",
   "execution_count": 26,
   "id": "ea78f94b",
   "metadata": {},
   "outputs": [
    {
     "data": {
      "text/html": [
       "<div>\n",
       "<style scoped>\n",
       "    .dataframe tbody tr th:only-of-type {\n",
       "        vertical-align: middle;\n",
       "    }\n",
       "\n",
       "    .dataframe tbody tr th {\n",
       "        vertical-align: top;\n",
       "    }\n",
       "\n",
       "    .dataframe thead th {\n",
       "        text-align: right;\n",
       "    }\n",
       "</style>\n",
       "<table border=\"1\" class=\"dataframe\">\n",
       "  <thead>\n",
       "    <tr style=\"text-align: right;\">\n",
       "      <th></th>\n",
       "      <th>Количество комнат</th>\n",
       "      <th>Площадь</th>\n",
       "      <th>Этаж</th>\n",
       "      <th>Цена. тыс.руб</th>\n",
       "    </tr>\n",
       "  </thead>\n",
       "  <tbody>\n",
       "    <tr>\n",
       "      <th>count</th>\n",
       "      <td>8.000000</td>\n",
       "      <td>8.000000</td>\n",
       "      <td>8.00000</td>\n",
       "      <td>8.000000</td>\n",
       "    </tr>\n",
       "    <tr>\n",
       "      <th>mean</th>\n",
       "      <td>2.500000</td>\n",
       "      <td>56.125000</td>\n",
       "      <td>4.00000</td>\n",
       "      <td>2875.000000</td>\n",
       "    </tr>\n",
       "    <tr>\n",
       "      <th>std</th>\n",
       "      <td>1.195229</td>\n",
       "      <td>21.682366</td>\n",
       "      <td>2.77746</td>\n",
       "      <td>1124.722188</td>\n",
       "    </tr>\n",
       "    <tr>\n",
       "      <th>min</th>\n",
       "      <td>1.000000</td>\n",
       "      <td>25.000000</td>\n",
       "      <td>1.00000</td>\n",
       "      <td>1250.000000</td>\n",
       "    </tr>\n",
       "    <tr>\n",
       "      <th>25%</th>\n",
       "      <td>1.750000</td>\n",
       "      <td>40.500000</td>\n",
       "      <td>2.50000</td>\n",
       "      <td>2212.500000</td>\n",
       "    </tr>\n",
       "    <tr>\n",
       "      <th>50%</th>\n",
       "      <td>2.500000</td>\n",
       "      <td>57.000000</td>\n",
       "      <td>3.50000</td>\n",
       "      <td>2800.000000</td>\n",
       "    </tr>\n",
       "    <tr>\n",
       "      <th>75%</th>\n",
       "      <td>3.250000</td>\n",
       "      <td>71.250000</td>\n",
       "      <td>4.75000</td>\n",
       "      <td>3375.000000</td>\n",
       "    </tr>\n",
       "    <tr>\n",
       "      <th>max</th>\n",
       "      <td>4.000000</td>\n",
       "      <td>89.000000</td>\n",
       "      <td>9.00000</td>\n",
       "      <td>4900.000000</td>\n",
       "    </tr>\n",
       "  </tbody>\n",
       "</table>\n",
       "</div>"
      ],
      "text/plain": [
       "       Количество комнат    Площадь     Этаж   Цена. тыс.руб\n",
       "count           8.000000   8.000000  8.00000        8.000000\n",
       "mean            2.500000  56.125000  4.00000     2875.000000\n",
       "std             1.195229  21.682366  2.77746     1124.722188\n",
       "min             1.000000  25.000000  1.00000     1250.000000\n",
       "25%             1.750000  40.500000  2.50000     2212.500000\n",
       "50%             2.500000  57.000000  3.50000     2800.000000\n",
       "75%             3.250000  71.250000  4.75000     3375.000000\n",
       "max             4.000000  89.000000  9.00000     4900.000000"
      ]
     },
     "execution_count": 26,
     "metadata": {},
     "output_type": "execute_result"
    }
   ],
   "source": [
    "df.describe()"
   ]
  },
  {
   "cell_type": "code",
   "execution_count": 27,
   "id": "81206b72",
   "metadata": {},
   "outputs": [
    {
     "name": "stdout",
     "output_type": "stream",
     "text": [
      "<class 'pandas.core.frame.DataFrame'>\n",
      "RangeIndex: 8 entries, 0 to 7\n",
      "Data columns (total 5 columns):\n",
      " #   Column             Non-Null Count  Dtype \n",
      "---  ------             --------------  ----- \n",
      " 0   Количество комнат  8 non-null      int64 \n",
      " 1    Площадь           8 non-null      int64 \n",
      " 2    Этаж              8 non-null      int64 \n",
      " 3    Лифт              8 non-null      object\n",
      " 4    Цена. тыс.руб     8 non-null      int64 \n",
      "dtypes: int64(4), object(1)\n",
      "memory usage: 448.0+ bytes\n"
     ]
    }
   ],
   "source": [
    "df.info()"
   ]
  },
  {
   "cell_type": "code",
   "execution_count": 28,
   "id": "e8772160",
   "metadata": {},
   "outputs": [
    {
     "data": {
      "text/plain": [
       "Index(['Количество комнат', ' Площадь', ' Этаж', ' Лифт', ' Цена. тыс.руб'], dtype='object')"
      ]
     },
     "execution_count": 28,
     "metadata": {},
     "output_type": "execute_result"
    }
   ],
   "source": [
    "df.columns"
   ]
  },
  {
   "cell_type": "markdown",
   "id": "e1d34f7b",
   "metadata": {},
   "source": [
    "Видим, что названия колонок имеют пробелы, слова начинаются с заглавных букв. Исправим это"
   ]
  },
  {
   "cell_type": "code",
   "execution_count": 29,
   "id": "1d5dc865",
   "metadata": {},
   "outputs": [],
   "source": [
    "cols = df.columns\n",
    "\n",
    "for col in cols:\n",
    "    df.rename(columns={col:col.lower().strip().replace(\" \", '_').replace('.', '')}, inplace = True)"
   ]
  },
  {
   "cell_type": "code",
   "execution_count": 30,
   "id": "1cfe4459",
   "metadata": {},
   "outputs": [],
   "source": [
    "df.rename(columns={'цена_тысруб':\"цена\"}, inplace = True)"
   ]
  },
  {
   "cell_type": "code",
   "execution_count": 31,
   "id": "fb973f4d",
   "metadata": {},
   "outputs": [
    {
     "data": {
      "text/html": [
       "<div>\n",
       "<style scoped>\n",
       "    .dataframe tbody tr th:only-of-type {\n",
       "        vertical-align: middle;\n",
       "    }\n",
       "\n",
       "    .dataframe tbody tr th {\n",
       "        vertical-align: top;\n",
       "    }\n",
       "\n",
       "    .dataframe thead th {\n",
       "        text-align: right;\n",
       "    }\n",
       "</style>\n",
       "<table border=\"1\" class=\"dataframe\">\n",
       "  <thead>\n",
       "    <tr style=\"text-align: right;\">\n",
       "      <th></th>\n",
       "      <th>количество_комнат</th>\n",
       "      <th>площадь</th>\n",
       "      <th>этаж</th>\n",
       "      <th>лифт</th>\n",
       "      <th>цена</th>\n",
       "    </tr>\n",
       "  </thead>\n",
       "  <tbody>\n",
       "    <tr>\n",
       "      <th>0</th>\n",
       "      <td>4</td>\n",
       "      <td>71</td>\n",
       "      <td>9</td>\n",
       "      <td>Есть</td>\n",
       "      <td>3600</td>\n",
       "    </tr>\n",
       "    <tr>\n",
       "      <th>1</th>\n",
       "      <td>3</td>\n",
       "      <td>66</td>\n",
       "      <td>1</td>\n",
       "      <td>Нет</td>\n",
       "      <td>3300</td>\n",
       "    </tr>\n",
       "    <tr>\n",
       "      <th>2</th>\n",
       "      <td>2</td>\n",
       "      <td>42</td>\n",
       "      <td>3</td>\n",
       "      <td>Нет</td>\n",
       "      <td>2100</td>\n",
       "    </tr>\n",
       "    <tr>\n",
       "      <th>3</th>\n",
       "      <td>2</td>\n",
       "      <td>48</td>\n",
       "      <td>4</td>\n",
       "      <td>Нет</td>\n",
       "      <td>2350</td>\n",
       "    </tr>\n",
       "    <tr>\n",
       "      <th>4</th>\n",
       "      <td>1</td>\n",
       "      <td>25</td>\n",
       "      <td>4</td>\n",
       "      <td>Нет</td>\n",
       "      <td>1250</td>\n",
       "    </tr>\n",
       "    <tr>\n",
       "      <th>5</th>\n",
       "      <td>1</td>\n",
       "      <td>36</td>\n",
       "      <td>3</td>\n",
       "      <td>Есть</td>\n",
       "      <td>2250</td>\n",
       "    </tr>\n",
       "    <tr>\n",
       "      <th>6</th>\n",
       "      <td>3</td>\n",
       "      <td>89</td>\n",
       "      <td>1</td>\n",
       "      <td>Есть</td>\n",
       "      <td>4900</td>\n",
       "    </tr>\n",
       "    <tr>\n",
       "      <th>7</th>\n",
       "      <td>4</td>\n",
       "      <td>72</td>\n",
       "      <td>7</td>\n",
       "      <td>Есть</td>\n",
       "      <td>3250</td>\n",
       "    </tr>\n",
       "  </tbody>\n",
       "</table>\n",
       "</div>"
      ],
      "text/plain": [
       "   количество_комнат  площадь  этаж  лифт  цена\n",
       "0                  4       71     9  Есть  3600\n",
       "1                  3       66     1   Нет  3300\n",
       "2                  2       42     3   Нет  2100\n",
       "3                  2       48     4   Нет  2350\n",
       "4                  1       25     4   Нет  1250\n",
       "5                  1       36     3  Есть  2250\n",
       "6                  3       89     1  Есть  4900\n",
       "7                  4       72     7  Есть  3250"
      ]
     },
     "execution_count": 31,
     "metadata": {},
     "output_type": "execute_result"
    }
   ],
   "source": [
    "df"
   ]
  },
  {
   "cell_type": "markdown",
   "id": "84821a21",
   "metadata": {},
   "source": [
    "Преобразуем признак \"Лифт\" в бинарный вид, в численное множество {0,1}"
   ]
  },
  {
   "cell_type": "code",
   "execution_count": 32,
   "id": "742178ff",
   "metadata": {},
   "outputs": [],
   "source": [
    "df['лифт'] = [1 if x == 'Есть' else 0 for x in df['лифт']]"
   ]
  },
  {
   "cell_type": "code",
   "execution_count": 34,
   "id": "7207a2be",
   "metadata": {},
   "outputs": [
    {
     "data": {
      "text/html": [
       "<div>\n",
       "<style scoped>\n",
       "    .dataframe tbody tr th:only-of-type {\n",
       "        vertical-align: middle;\n",
       "    }\n",
       "\n",
       "    .dataframe tbody tr th {\n",
       "        vertical-align: top;\n",
       "    }\n",
       "\n",
       "    .dataframe thead th {\n",
       "        text-align: right;\n",
       "    }\n",
       "</style>\n",
       "<table border=\"1\" class=\"dataframe\">\n",
       "  <thead>\n",
       "    <tr style=\"text-align: right;\">\n",
       "      <th></th>\n",
       "      <th>количество_комнат</th>\n",
       "      <th>площадь</th>\n",
       "      <th>этаж</th>\n",
       "      <th>лифт</th>\n",
       "      <th>цена</th>\n",
       "    </tr>\n",
       "  </thead>\n",
       "  <tbody>\n",
       "    <tr>\n",
       "      <th>0</th>\n",
       "      <td>4</td>\n",
       "      <td>71</td>\n",
       "      <td>9</td>\n",
       "      <td>1</td>\n",
       "      <td>3600</td>\n",
       "    </tr>\n",
       "    <tr>\n",
       "      <th>1</th>\n",
       "      <td>3</td>\n",
       "      <td>66</td>\n",
       "      <td>1</td>\n",
       "      <td>0</td>\n",
       "      <td>3300</td>\n",
       "    </tr>\n",
       "    <tr>\n",
       "      <th>2</th>\n",
       "      <td>2</td>\n",
       "      <td>42</td>\n",
       "      <td>3</td>\n",
       "      <td>0</td>\n",
       "      <td>2100</td>\n",
       "    </tr>\n",
       "    <tr>\n",
       "      <th>3</th>\n",
       "      <td>2</td>\n",
       "      <td>48</td>\n",
       "      <td>4</td>\n",
       "      <td>0</td>\n",
       "      <td>2350</td>\n",
       "    </tr>\n",
       "    <tr>\n",
       "      <th>4</th>\n",
       "      <td>1</td>\n",
       "      <td>25</td>\n",
       "      <td>4</td>\n",
       "      <td>0</td>\n",
       "      <td>1250</td>\n",
       "    </tr>\n",
       "    <tr>\n",
       "      <th>5</th>\n",
       "      <td>1</td>\n",
       "      <td>36</td>\n",
       "      <td>3</td>\n",
       "      <td>1</td>\n",
       "      <td>2250</td>\n",
       "    </tr>\n",
       "    <tr>\n",
       "      <th>6</th>\n",
       "      <td>3</td>\n",
       "      <td>89</td>\n",
       "      <td>1</td>\n",
       "      <td>1</td>\n",
       "      <td>4900</td>\n",
       "    </tr>\n",
       "    <tr>\n",
       "      <th>7</th>\n",
       "      <td>4</td>\n",
       "      <td>72</td>\n",
       "      <td>7</td>\n",
       "      <td>1</td>\n",
       "      <td>3250</td>\n",
       "    </tr>\n",
       "  </tbody>\n",
       "</table>\n",
       "</div>"
      ],
      "text/plain": [
       "   количество_комнат  площадь  этаж  лифт  цена\n",
       "0                  4       71     9     1  3600\n",
       "1                  3       66     1     0  3300\n",
       "2                  2       42     3     0  2100\n",
       "3                  2       48     4     0  2350\n",
       "4                  1       25     4     0  1250\n",
       "5                  1       36     3     1  2250\n",
       "6                  3       89     1     1  4900\n",
       "7                  4       72     7     1  3250"
      ]
     },
     "execution_count": 34,
     "metadata": {},
     "output_type": "execute_result"
    }
   ],
   "source": [
    "df"
   ]
  },
  {
   "cell_type": "markdown",
   "id": "98cddf8f",
   "metadata": {},
   "source": [
    "Отлично! Теперь попробуем визуализировать данные и выявить зависимости между целевой переменной и признаками в отдельности"
   ]
  },
  {
   "cell_type": "code",
   "execution_count": 40,
   "id": "bc307590",
   "metadata": {},
   "outputs": [
    {
     "data": {
      "image/png": "[encoded data removed]",
      "text/plain": [
       "<Figure size 1600x1000 with 4 Axes>"
      ]
     },
     "metadata": {},
     "output_type": "display_data"
    }
   ],
   "source": [
    "fig = plt.figure()\n",
    "\n",
    "fig.set_size_inches(16, 10)\n",
    "i = 1\n",
    "cols = df.columns\n",
    "cols = list(cols)\n",
    "cols.remove('цена')\n",
    "for col in cols:\n",
    "    ax = fig.add_subplot(2,2,i)\n",
    "    ax.set_title(col)\n",
    "    plt.scatter(df[col], df['цена'])\n",
    "    i += 1\n",
    "plt.show()"
   ]
  },
  {
   "cell_type": "markdown",
   "id": "557d2360",
   "metadata": {},
   "source": [
    "## Выводы\n",
    "\n",
    "Отсюда наблюдаем около-линейную зависимость цена от количества комнат и площади.\n",
    "\n",
    "Квартиры в домах, где есть лифт, в среднем стоят дороже.\n",
    "\n",
    "Зависимость от этажа проследить не удалось"
   ]
  },
  {
   "cell_type": "code",
   "execution_count": 43,
   "id": "97479bea",
   "metadata": {},
   "outputs": [
    {
     "data": {
      "text/html": [
       "<div>\n",
       "<style scoped>\n",
       "    .dataframe tbody tr th:only-of-type {\n",
       "        vertical-align: middle;\n",
       "    }\n",
       "\n",
       "    .dataframe tbody tr th {\n",
       "        vertical-align: top;\n",
       "    }\n",
       "\n",
       "    .dataframe thead th {\n",
       "        text-align: right;\n",
       "    }\n",
       "</style>\n",
       "<table border=\"1\" class=\"dataframe\">\n",
       "  <thead>\n",
       "    <tr style=\"text-align: right;\">\n",
       "      <th></th>\n",
       "      <th>количество_комнат</th>\n",
       "      <th>площадь</th>\n",
       "      <th>этаж</th>\n",
       "      <th>лифт</th>\n",
       "      <th>цена</th>\n",
       "    </tr>\n",
       "  </thead>\n",
       "  <tbody>\n",
       "    <tr>\n",
       "      <th>0</th>\n",
       "      <td>4</td>\n",
       "      <td>71</td>\n",
       "      <td>9</td>\n",
       "      <td>1</td>\n",
       "      <td>3600</td>\n",
       "    </tr>\n",
       "    <tr>\n",
       "      <th>1</th>\n",
       "      <td>3</td>\n",
       "      <td>66</td>\n",
       "      <td>1</td>\n",
       "      <td>0</td>\n",
       "      <td>3300</td>\n",
       "    </tr>\n",
       "    <tr>\n",
       "      <th>2</th>\n",
       "      <td>2</td>\n",
       "      <td>42</td>\n",
       "      <td>3</td>\n",
       "      <td>0</td>\n",
       "      <td>2100</td>\n",
       "    </tr>\n",
       "    <tr>\n",
       "      <th>3</th>\n",
       "      <td>2</td>\n",
       "      <td>48</td>\n",
       "      <td>4</td>\n",
       "      <td>0</td>\n",
       "      <td>2350</td>\n",
       "    </tr>\n",
       "    <tr>\n",
       "      <th>4</th>\n",
       "      <td>1</td>\n",
       "      <td>25</td>\n",
       "      <td>4</td>\n",
       "      <td>0</td>\n",
       "      <td>1250</td>\n",
       "    </tr>\n",
       "    <tr>\n",
       "      <th>5</th>\n",
       "      <td>1</td>\n",
       "      <td>36</td>\n",
       "      <td>3</td>\n",
       "      <td>1</td>\n",
       "      <td>2250</td>\n",
       "    </tr>\n",
       "    <tr>\n",
       "      <th>6</th>\n",
       "      <td>3</td>\n",
       "      <td>89</td>\n",
       "      <td>1</td>\n",
       "      <td>1</td>\n",
       "      <td>4900</td>\n",
       "    </tr>\n",
       "    <tr>\n",
       "      <th>7</th>\n",
       "      <td>4</td>\n",
       "      <td>72</td>\n",
       "      <td>7</td>\n",
       "      <td>1</td>\n",
       "      <td>3250</td>\n",
       "    </tr>\n",
       "  </tbody>\n",
       "</table>\n",
       "</div>"
      ],
      "text/plain": [
       "   количество_комнат  площадь  этаж  лифт  цена\n",
       "0                  4       71     9     1  3600\n",
       "1                  3       66     1     0  3300\n",
       "2                  2       42     3     0  2100\n",
       "3                  2       48     4     0  2350\n",
       "4                  1       25     4     0  1250\n",
       "5                  1       36     3     1  2250\n",
       "6                  3       89     1     1  4900\n",
       "7                  4       72     7     1  3250"
      ]
     },
     "execution_count": 43,
     "metadata": {},
     "output_type": "execute_result"
    }
   ],
   "source": [
    "df"
   ]
  },
  {
   "cell_type": "markdown",
   "id": "9a0a54e0",
   "metadata": {},
   "source": [
    "## Далее попробуем обучить несколько алгоритмов машинного обучения"
   ]
  },
  {
   "cell_type": "code",
   "execution_count": 44,
   "id": "68f34509",
   "metadata": {},
   "outputs": [],
   "source": [
    "from sklearn.linear_model import Lasso, Ridge, LinearRegression"
   ]
  },
  {
   "cell_type": "code",
   "execution_count": 47,
   "id": "b0469bbb",
   "metadata": {},
   "outputs": [],
   "source": [
    "model_1 = Lasso()\n",
    "model_2 = Ridge()\n",
    "model_3 = LinearRegression()\n",
    "\n",
    "models = [model_1,model_2,model_3]"
   ]
  },
  {
   "cell_type": "code",
   "execution_count": 48,
   "id": "1261611b",
   "metadata": {},
   "outputs": [],
   "source": [
    "X = df.drop('цена', axis = 1)\n",
    "Y = df['цена']"
   ]
  },
  {
   "cell_type": "code",
   "execution_count": 49,
   "id": "d58bbf5c",
   "metadata": {},
   "outputs": [],
   "source": [
    "models_name = [\"Lasso\", 'Ridge', 'LinearRegression']\n",
    "for model, name in zip(models,models_name):\n",
    "    model.fit(X,Y)\n",
    "    X['prediction_'+name] = model.predict(X)"
   ]
  },
  {
   "cell_type": "code",
   "execution_count": 50,
   "id": "2f629b9e",
   "metadata": {},
   "outputs": [
    {
     "data": {
      "text/html": [
       "<div>\n",
       "<style scoped>\n",
       "    .dataframe tbody tr th:only-of-type {\n",
       "        vertical-align: middle;\n",
       "    }\n",
       "\n",
       "    .dataframe tbody tr th {\n",
       "        vertical-align: top;\n",
       "    }\n",
       "\n",
       "    .dataframe thead th {\n",
       "        text-align: right;\n",
       "    }\n",
       "</style>\n",
       "<table border=\"1\" class=\"dataframe\">\n",
       "  <thead>\n",
       "    <tr style=\"text-align: right;\">\n",
       "      <th></th>\n",
       "      <th>количество_комнат</th>\n",
       "      <th>площадь</th>\n",
       "      <th>этаж</th>\n",
       "      <th>лифт</th>\n",
       "      <th>prediction_Lasso</th>\n",
       "      <th>prediction_Ridge</th>\n",
       "      <th>prediction_LinearRegression</th>\n",
       "    </tr>\n",
       "  </thead>\n",
       "  <tbody>\n",
       "    <tr>\n",
       "      <th>0</th>\n",
       "      <td>4</td>\n",
       "      <td>71</td>\n",
       "      <td>9</td>\n",
       "      <td>1</td>\n",
       "      <td>3410.715137</td>\n",
       "      <td>3411.938217</td>\n",
       "      <td>3412.460159</td>\n",
       "    </tr>\n",
       "    <tr>\n",
       "      <th>1</th>\n",
       "      <td>3</td>\n",
       "      <td>66</td>\n",
       "      <td>1</td>\n",
       "      <td>0</td>\n",
       "      <td>3234.009186</td>\n",
       "      <td>3227.852073</td>\n",
       "      <td>3226.954019</td>\n",
       "    </tr>\n",
       "    <tr>\n",
       "      <th>2</th>\n",
       "      <td>2</td>\n",
       "      <td>42</td>\n",
       "      <td>3</td>\n",
       "      <td>0</td>\n",
       "      <td>2042.124216</td>\n",
       "      <td>2038.708660</td>\n",
       "      <td>2038.308749</td>\n",
       "    </tr>\n",
       "    <tr>\n",
       "      <th>3</th>\n",
       "      <td>2</td>\n",
       "      <td>48</td>\n",
       "      <td>4</td>\n",
       "      <td>0</td>\n",
       "      <td>2431.649443</td>\n",
       "      <td>2431.644133</td>\n",
       "      <td>2433.545079</td>\n",
       "    </tr>\n",
       "    <tr>\n",
       "      <th>4</th>\n",
       "      <td>1</td>\n",
       "      <td>25</td>\n",
       "      <td>4</td>\n",
       "      <td>0</td>\n",
       "      <td>1300.217154</td>\n",
       "      <td>1300.501873</td>\n",
       "      <td>1301.192153</td>\n",
       "    </tr>\n",
       "    <tr>\n",
       "      <th>5</th>\n",
       "      <td>1</td>\n",
       "      <td>36</td>\n",
       "      <td>3</td>\n",
       "      <td>1</td>\n",
       "      <td>2199.668401</td>\n",
       "      <td>2204.825285</td>\n",
       "      <td>2203.487263</td>\n",
       "    </tr>\n",
       "    <tr>\n",
       "      <th>6</th>\n",
       "      <td>3</td>\n",
       "      <td>89</td>\n",
       "      <td>1</td>\n",
       "      <td>1</td>\n",
       "      <td>4910.448645</td>\n",
       "      <td>4914.590389</td>\n",
       "      <td>4915.300077</td>\n",
       "    </tr>\n",
       "    <tr>\n",
       "      <th>7</th>\n",
       "      <td>4</td>\n",
       "      <td>72</td>\n",
       "      <td>7</td>\n",
       "      <td>1</td>\n",
       "      <td>3471.167817</td>\n",
       "      <td>3469.939370</td>\n",
       "      <td>3468.752502</td>\n",
       "    </tr>\n",
       "  </tbody>\n",
       "</table>\n",
       "</div>"
      ],
      "text/plain": [
       "   количество_комнат  площадь  этаж  лифт  prediction_Lasso  prediction_Ridge  \\\n",
       "0                  4       71     9     1       3410.715137       3411.938217   \n",
       "1                  3       66     1     0       3234.009186       3227.852073   \n",
       "2                  2       42     3     0       2042.124216       2038.708660   \n",
       "3                  2       48     4     0       2431.649443       2431.644133   \n",
       "4                  1       25     4     0       1300.217154       1300.501873   \n",
       "5                  1       36     3     1       2199.668401       2204.825285   \n",
       "6                  3       89     1     1       4910.448645       4914.590389   \n",
       "7                  4       72     7     1       3471.167817       3469.939370   \n",
       "\n",
       "   prediction_LinearRegression  \n",
       "0                  3412.460159  \n",
       "1                  3226.954019  \n",
       "2                  2038.308749  \n",
       "3                  2433.545079  \n",
       "4                  1301.192153  \n",
       "5                  2203.487263  \n",
       "6                  4915.300077  \n",
       "7                  3468.752502  "
      ]
     },
     "execution_count": 50,
     "metadata": {},
     "output_type": "execute_result"
    }
   ],
   "source": [
    "X"
   ]
  },
  {
   "cell_type": "markdown",
   "id": "18955670",
   "metadata": {},
   "source": [
    "# Посчитаем метрику MAE для трех моделей"
   ]
  },
  {
   "cell_type": "code",
   "execution_count": 53,
   "id": "d766e67d",
   "metadata": {},
   "outputs": [
    {
     "data": {
      "text/plain": [
       "90.87076492639986"
      ]
     },
     "execution_count": 53,
     "metadata": {},
     "output_type": "execute_result"
    }
   ],
   "source": [
    "abs(Y - X['prediction_Lasso']).mean()"
   ]
  },
  {
   "cell_type": "code",
   "execution_count": 54,
   "id": "fecaf9b2",
   "metadata": {},
   "outputs": [
    {
     "data": {
      "text/plain": [
       "91.66894113163738"
      ]
     },
     "execution_count": 54,
     "metadata": {},
     "output_type": "execute_result"
    }
   ],
   "source": [
    "abs(Y - X['prediction_Ridge']).mean()"
   ]
  },
  {
   "cell_type": "code",
   "execution_count": 55,
   "id": "e9a86a2a",
   "metadata": {},
   "outputs": [
    {
     "data": {
      "text/plain": [
       "92.19745262272988"
      ]
     },
     "execution_count": 55,
     "metadata": {},
     "output_type": "execute_result"
    }
   ],
   "source": [
    "abs(Y - X['prediction_LinearRegression']).mean()"
   ]
  },
  {
   "cell_type": "code",
   "execution_count": 58,
   "id": "d21a2972",
   "metadata": {},
   "outputs": [
    {
     "data": {
      "image/png": "[encoded data removed]",
      "text/plain": [
       "<Figure size 640x480 with 3 Axes>"
      ]
     },
     "metadata": {},
     "output_type": "display_data"
    }
   ],
   "source": [
    "fig, ax = plt.subplots(ncols = 3)\n",
    "dct = {'Lasso': Y - X['prediction_Lasso'], 'Ridge': Y - X['prediction_Ridge'], 'LinReg': Y - X['prediction_LinearRegression']}\n",
    "\n",
    "i = 0\n",
    "for key,val in dct.items():\n",
    "    ax[i].plot(np.arange(X.shape[0]), val, alpha = 0.6)\n",
    "    ax[i].set_title(key + '_MAE')\n",
    "    i += 1\n",
    "\n",
    "plt.tight_layout()\n",
    "plt.show()"
   ]
  },
  {
   "cell_type": "markdown",
   "id": "f6546102",
   "metadata": {},
   "source": [
    "Наблюдаем для трех моделей в среднем ошибку в 91 тыс. руб. Наилучший результат получаем с использованием модели Lasso с L1-регуляризацией. Ее и будем использовать"
   ]
  }
 ],
 "metadata": {
  "kernelspec": {
   "display_name": "Python 3 (ipykernel)",
   "language": "python",
   "name": "python3"
  },
  "language_info": {
   "codemirror_mode": {
    "name": "ipython",
    "version": 3
   },
   "file_extension": ".py",
   "mimetype": "text/x-python",
   "name": "python",
   "nbconvert_exporter": "python",
   "pygments_lexer": "ipython3",
   "version": "3.10.5"
  }
 },
 "nbformat": 4,
 "nbformat_minor": 5
}
